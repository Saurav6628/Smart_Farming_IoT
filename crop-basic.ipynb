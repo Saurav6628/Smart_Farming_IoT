{
 "cells": [
  {
   "cell_type": "code",
   "execution_count": 3,
   "id": "be3f3c72",
   "metadata": {
    "execution": {
     "iopub.execute_input": "2023-07-23T15:25:53.571576Z",
     "iopub.status.busy": "2023-07-23T15:25:53.571105Z",
     "iopub.status.idle": "2023-07-23T15:25:53.591838Z",
     "shell.execute_reply": "2023-07-23T15:25:53.590641Z"
    },
    "papermill": {
     "duration": 0.032791,
     "end_time": "2023-07-23T15:25:53.594667",
     "exception": false,
     "start_time": "2023-07-23T15:25:53.561876",
     "status": "completed"
    },
    "tags": []
   },
   "outputs": [],
   "source": [
    "import numpy as np # linear algebra\n",
    "import pandas as pd # data processing, CSV file I/O (e.g. pd.read_csv)\n",
    "\n",
    "# Input data files are available in the read-only \"../input/\" directory\n",
    "# For example, running this (by clicking run or pressing Shift+Enter) will list all files under the input directory\n",
    "\n",
    "import os\n",
    "for dirname, _, filenames in os.walk('/kaggle/input'):\n",
    "    for filename in filenames:\n",
    "        print(os.path.join(dirname, filename))\n",
    "\n",
    "# You can write up to 20GB to the current directory (/kaggle/working/) that gets preserved as output when you create a version using \"Save & Run All\" \n",
    "# You can also write temporary files to /kaggle/temp/, but they won't be saved outside of the current session"
   ]
  },
  {
   "cell_type": "code",
   "execution_count": 2,
   "id": "408a3d64",
   "metadata": {
    "execution": {
     "iopub.execute_input": "2023-07-23T15:25:53.611332Z",
     "iopub.status.busy": "2023-07-23T15:25:53.610664Z",
     "iopub.status.idle": "2023-07-23T15:25:53.689404Z",
     "shell.execute_reply": "2023-07-23T15:25:53.687837Z"
    },
    "id": "ME8kunA_7WCZ",
    "papermill": {
     "duration": 0.090908,
     "end_time": "2023-07-23T15:25:53.692688",
     "exception": false,
     "start_time": "2023-07-23T15:25:53.601780",
     "status": "completed"
    },
    "tags": []
   },
   "outputs": [],
   "source": [
    "data = pd.read_csv('/kaggle/input/crop-yield-in-indian-states-dataset/crop_yield.csv')"
   ]
  },
  {
   "cell_type": "code",
   "execution_count": 3,
   "id": "e92c6a5d",
   "metadata": {
    "execution": {
     "iopub.execute_input": "2023-07-23T15:25:53.708327Z",
     "iopub.status.busy": "2023-07-23T15:25:53.707952Z",
     "iopub.status.idle": "2023-07-23T15:25:53.737917Z",
     "shell.execute_reply": "2023-07-23T15:25:53.736542Z"
    },
    "id": "kvPjKRRN7ZpS",
    "outputId": "4cd49171-e371-43fd-c421-b020fd7285a1",
    "papermill": {
     "duration": 0.041119,
     "end_time": "2023-07-23T15:25:53.740755",
     "exception": false,
     "start_time": "2023-07-23T15:25:53.699636",
     "status": "completed"
    },
    "tags": []
   },
   "outputs": [
    {
     "data": {
      "text/html": [
       "<div>\n",
       "<style scoped>\n",
       "    .dataframe tbody tr th:only-of-type {\n",
       "        vertical-align: middle;\n",
       "    }\n",
       "\n",
       "    .dataframe tbody tr th {\n",
       "        vertical-align: top;\n",
       "    }\n",
       "\n",
       "    .dataframe thead th {\n",
       "        text-align: right;\n",
       "    }\n",
       "</style>\n",
       "<table border=\"1\" class=\"dataframe\">\n",
       "  <thead>\n",
       "    <tr style=\"text-align: right;\">\n",
       "      <th></th>\n",
       "      <th>Crop</th>\n",
       "      <th>Crop_Year</th>\n",
       "      <th>Season</th>\n",
       "      <th>State</th>\n",
       "      <th>Area</th>\n",
       "      <th>Production</th>\n",
       "      <th>Annual_Rainfall</th>\n",
       "      <th>Fertilizer</th>\n",
       "      <th>Pesticide</th>\n",
       "      <th>Yield</th>\n",
       "    </tr>\n",
       "  </thead>\n",
       "  <tbody>\n",
       "    <tr>\n",
       "      <th>0</th>\n",
       "      <td>Arecanut</td>\n",
       "      <td>1997</td>\n",
       "      <td>Whole Year</td>\n",
       "      <td>Assam</td>\n",
       "      <td>73814.0</td>\n",
       "      <td>56708</td>\n",
       "      <td>2051.4</td>\n",
       "      <td>7024878.38</td>\n",
       "      <td>22882.34</td>\n",
       "      <td>0.796087</td>\n",
       "    </tr>\n",
       "    <tr>\n",
       "      <th>1</th>\n",
       "      <td>Arhar/Tur</td>\n",
       "      <td>1997</td>\n",
       "      <td>Kharif</td>\n",
       "      <td>Assam</td>\n",
       "      <td>6637.0</td>\n",
       "      <td>4685</td>\n",
       "      <td>2051.4</td>\n",
       "      <td>631643.29</td>\n",
       "      <td>2057.47</td>\n",
       "      <td>0.710435</td>\n",
       "    </tr>\n",
       "    <tr>\n",
       "      <th>2</th>\n",
       "      <td>Castor seed</td>\n",
       "      <td>1997</td>\n",
       "      <td>Kharif</td>\n",
       "      <td>Assam</td>\n",
       "      <td>796.0</td>\n",
       "      <td>22</td>\n",
       "      <td>2051.4</td>\n",
       "      <td>75755.32</td>\n",
       "      <td>246.76</td>\n",
       "      <td>0.238333</td>\n",
       "    </tr>\n",
       "    <tr>\n",
       "      <th>3</th>\n",
       "      <td>Coconut</td>\n",
       "      <td>1997</td>\n",
       "      <td>Whole Year</td>\n",
       "      <td>Assam</td>\n",
       "      <td>19656.0</td>\n",
       "      <td>126905000</td>\n",
       "      <td>2051.4</td>\n",
       "      <td>1870661.52</td>\n",
       "      <td>6093.36</td>\n",
       "      <td>5238.051739</td>\n",
       "    </tr>\n",
       "    <tr>\n",
       "      <th>4</th>\n",
       "      <td>Cotton(lint)</td>\n",
       "      <td>1997</td>\n",
       "      <td>Kharif</td>\n",
       "      <td>Assam</td>\n",
       "      <td>1739.0</td>\n",
       "      <td>794</td>\n",
       "      <td>2051.4</td>\n",
       "      <td>165500.63</td>\n",
       "      <td>539.09</td>\n",
       "      <td>0.420909</td>\n",
       "    </tr>\n",
       "  </tbody>\n",
       "</table>\n",
       "</div>"
      ],
      "text/plain": [
       "           Crop  Crop_Year       Season  State     Area  Production  \\\n",
       "0      Arecanut       1997  Whole Year   Assam  73814.0       56708   \n",
       "1     Arhar/Tur       1997  Kharif       Assam   6637.0        4685   \n",
       "2   Castor seed       1997  Kharif       Assam    796.0          22   \n",
       "3      Coconut        1997  Whole Year   Assam  19656.0   126905000   \n",
       "4  Cotton(lint)       1997  Kharif       Assam   1739.0         794   \n",
       "\n",
       "   Annual_Rainfall  Fertilizer  Pesticide        Yield  \n",
       "0           2051.4  7024878.38   22882.34     0.796087  \n",
       "1           2051.4   631643.29    2057.47     0.710435  \n",
       "2           2051.4    75755.32     246.76     0.238333  \n",
       "3           2051.4  1870661.52    6093.36  5238.051739  \n",
       "4           2051.4   165500.63     539.09     0.420909  "
      ]
     },
     "execution_count": 3,
     "metadata": {},
     "output_type": "execute_result"
    }
   ],
   "source": [
    "data.head()"
   ]
  },
  {
   "cell_type": "code",
   "execution_count": 4,
   "id": "bba17000",
   "metadata": {
    "execution": {
     "iopub.execute_input": "2023-07-23T15:25:53.755968Z",
     "iopub.status.busy": "2023-07-23T15:25:53.755589Z",
     "iopub.status.idle": "2023-07-23T15:25:53.762905Z",
     "shell.execute_reply": "2023-07-23T15:25:53.761663Z"
    },
    "id": "dzARsZ-V7dCY",
    "outputId": "6ebe9171-aa05-4a34-dd44-abafb1f6bebb",
    "papermill": {
     "duration": 0.018283,
     "end_time": "2023-07-23T15:25:53.765745",
     "exception": false,
     "start_time": "2023-07-23T15:25:53.747462",
     "status": "completed"
    },
    "tags": []
   },
   "outputs": [
    {
     "data": {
      "text/plain": [
       "(19689, 10)"
      ]
     },
     "execution_count": 4,
     "metadata": {},
     "output_type": "execute_result"
    }
   ],
   "source": [
    "data.shape"
   ]
  },
  {
   "cell_type": "code",
   "execution_count": 5,
   "id": "f2bbd4bf",
   "metadata": {
    "execution": {
     "iopub.execute_input": "2023-07-23T15:25:53.781931Z",
     "iopub.status.busy": "2023-07-23T15:25:53.781231Z",
     "iopub.status.idle": "2023-07-23T15:25:53.813744Z",
     "shell.execute_reply": "2023-07-23T15:25:53.812662Z"
    },
    "id": "kv-0uvLP7nUE",
    "outputId": "819cfc3c-3679-4f00-836d-a18b00eb573a",
    "papermill": {
     "duration": 0.043313,
     "end_time": "2023-07-23T15:25:53.816091",
     "exception": false,
     "start_time": "2023-07-23T15:25:53.772778",
     "status": "completed"
    },
    "tags": []
   },
   "outputs": [
    {
     "data": {
      "text/plain": [
       "Crop               0\n",
       "Crop_Year          0\n",
       "Season             0\n",
       "State              0\n",
       "Area               0\n",
       "Production         0\n",
       "Annual_Rainfall    0\n",
       "Fertilizer         0\n",
       "Pesticide          0\n",
       "Yield              0\n",
       "dtype: int64"
      ]
     },
     "execution_count": 5,
     "metadata": {},
     "output_type": "execute_result"
    }
   ],
   "source": [
    "data.isnull().sum()"
   ]
  },
  {
   "cell_type": "code",
   "execution_count": 6,
   "id": "c2f3e672",
   "metadata": {
    "execution": {
     "iopub.execute_input": "2023-07-23T15:25:53.832132Z",
     "iopub.status.busy": "2023-07-23T15:25:53.831537Z",
     "iopub.status.idle": "2023-07-23T15:25:53.839997Z",
     "shell.execute_reply": "2023-07-23T15:25:53.838518Z"
    },
    "id": "XmmJsXvj8YWq",
    "outputId": "93edd9e9-5295-4507-eeec-81c2ce0d2b46",
    "papermill": {
     "duration": 0.019572,
     "end_time": "2023-07-23T15:25:53.842559",
     "exception": false,
     "start_time": "2023-07-23T15:25:53.822987",
     "status": "completed"
    },
    "tags": []
   },
   "outputs": [
    {
     "data": {
      "text/plain": [
       "Index(['Crop_Year', 'Area', 'Production', 'Annual_Rainfall', 'Fertilizer',\n",
       "       'Pesticide', 'Yield'],\n",
       "      dtype='object')"
      ]
     },
     "execution_count": 6,
     "metadata": {},
     "output_type": "execute_result"
    }
   ],
   "source": [
    "data.select_dtypes('number').columns"
   ]
  },
  {
   "cell_type": "code",
   "execution_count": 7,
   "id": "ed3b04f4",
   "metadata": {
    "execution": {
     "iopub.execute_input": "2023-07-23T15:25:53.858868Z",
     "iopub.status.busy": "2023-07-23T15:25:53.858499Z",
     "iopub.status.idle": "2023-07-23T15:25:53.865965Z",
     "shell.execute_reply": "2023-07-23T15:25:53.864477Z"
    },
    "id": "vREBwmFr7wuO",
    "papermill": {
     "duration": 0.019022,
     "end_time": "2023-07-23T15:25:53.868757",
     "exception": false,
     "start_time": "2023-07-23T15:25:53.849735",
     "status": "completed"
    },
    "tags": []
   },
   "outputs": [],
   "source": [
    "categorical = data.select_dtypes(exclude='number').columns\n",
    "numerical = data.select_dtypes('number').columns"
   ]
  },
  {
   "cell_type": "code",
   "execution_count": 8,
   "id": "e50c1d93",
   "metadata": {
    "execution": {
     "iopub.execute_input": "2023-07-23T15:25:53.886915Z",
     "iopub.status.busy": "2023-07-23T15:25:53.886526Z",
     "iopub.status.idle": "2023-07-23T15:25:55.242120Z",
     "shell.execute_reply": "2023-07-23T15:25:55.240927Z"
    },
    "id": "lJWF_J2AACpa",
    "papermill": {
     "duration": 1.368337,
     "end_time": "2023-07-23T15:25:55.245204",
     "exception": false,
     "start_time": "2023-07-23T15:25:53.876867",
     "status": "completed"
    },
    "tags": []
   },
   "outputs": [
    {
     "name": "stderr",
     "output_type": "stream",
     "text": [
      "/opt/conda/lib/python3.10/site-packages/scipy/__init__.py:146: UserWarning: A NumPy version >=1.16.5 and <1.23.0 is required for this version of SciPy (detected version 1.23.5\n",
      "  warnings.warn(f\"A NumPy version >={np_minversion} and <{np_maxversion}\"\n"
     ]
    }
   ],
   "source": [
    "from sklearn.model_selection import train_test_split"
   ]
  },
  {
   "cell_type": "code",
   "execution_count": 9,
   "id": "9e56eee8",
   "metadata": {
    "execution": {
     "iopub.execute_input": "2023-07-23T15:25:55.265126Z",
     "iopub.status.busy": "2023-07-23T15:25:55.264294Z",
     "iopub.status.idle": "2023-07-23T15:25:55.277426Z",
     "shell.execute_reply": "2023-07-23T15:25:55.276387Z"
    },
    "id": "W3gDScmxAbiT",
    "papermill": {
     "duration": 0.026591,
     "end_time": "2023-07-23T15:25:55.280346",
     "exception": false,
     "start_time": "2023-07-23T15:25:55.253755",
     "status": "completed"
    },
    "tags": []
   },
   "outputs": [],
   "source": [
    "X = data.drop(['Yield'], axis=1)\n",
    "y = data.Yield"
   ]
  },
  {
   "cell_type": "code",
   "execution_count": 10,
   "id": "5903a94e",
   "metadata": {
    "execution": {
     "iopub.execute_input": "2023-07-23T15:25:55.299938Z",
     "iopub.status.busy": "2023-07-23T15:25:55.298904Z",
     "iopub.status.idle": "2023-07-23T15:25:55.311842Z",
     "shell.execute_reply": "2023-07-23T15:25:55.310663Z"
    },
    "id": "lNPykgggAK7d",
    "papermill": {
     "duration": 0.026184,
     "end_time": "2023-07-23T15:25:55.314832",
     "exception": false,
     "start_time": "2023-07-23T15:25:55.288648",
     "status": "completed"
    },
    "tags": []
   },
   "outputs": [],
   "source": [
    "X_train, X_test, y_train, y_test = train_test_split(X, y, test_size=0.2, random_state=42)"
   ]
  },
  {
   "cell_type": "code",
   "execution_count": 11,
   "id": "3a13024a",
   "metadata": {
    "execution": {
     "iopub.execute_input": "2023-07-23T15:25:55.334362Z",
     "iopub.status.busy": "2023-07-23T15:25:55.333942Z",
     "iopub.status.idle": "2023-07-23T15:25:55.362994Z",
     "shell.execute_reply": "2023-07-23T15:25:55.361669Z"
    },
    "id": "iomI5HuV9RC6",
    "papermill": {
     "duration": 0.041699,
     "end_time": "2023-07-23T15:25:55.366223",
     "exception": false,
     "start_time": "2023-07-23T15:25:55.324524",
     "status": "completed"
    },
    "tags": []
   },
   "outputs": [],
   "source": [
    "from sklearn.preprocessing import OneHotEncoder, MinMaxScaler\n",
    "from sklearn.compose import ColumnTransformer"
   ]
  },
  {
   "cell_type": "code",
   "execution_count": 12,
   "id": "2a3abb55",
   "metadata": {
    "execution": {
     "iopub.execute_input": "2023-07-23T15:25:55.383815Z",
     "iopub.status.busy": "2023-07-23T15:25:55.383382Z",
     "iopub.status.idle": "2023-07-23T15:25:55.388702Z",
     "shell.execute_reply": "2023-07-23T15:25:55.387630Z"
    },
    "id": "sLtlUBt18llZ",
    "papermill": {
     "duration": 0.017015,
     "end_time": "2023-07-23T15:25:55.391012",
     "exception": false,
     "start_time": "2023-07-23T15:25:55.373997",
     "status": "completed"
    },
    "tags": []
   },
   "outputs": [],
   "source": [
    "transform = [('OHE', OneHotEncoder(), ['Crop', 'Season', 'State']),\n",
    " ('MMS', MinMaxScaler(), ['Area', 'Production', 'Annual_Rainfall', 'Fertilizer',\n",
    "       'Pesticide'])]"
   ]
  },
  {
   "cell_type": "code",
   "execution_count": 13,
   "id": "bd035e7e",
   "metadata": {
    "execution": {
     "iopub.execute_input": "2023-07-23T15:25:55.409466Z",
     "iopub.status.busy": "2023-07-23T15:25:55.408408Z",
     "iopub.status.idle": "2023-07-23T15:25:55.413451Z",
     "shell.execute_reply": "2023-07-23T15:25:55.412460Z"
    },
    "id": "WgXfxStd-GRD",
    "papermill": {
     "duration": 0.016974,
     "end_time": "2023-07-23T15:25:55.415778",
     "exception": false,
     "start_time": "2023-07-23T15:25:55.398804",
     "status": "completed"
    },
    "tags": []
   },
   "outputs": [],
   "source": [
    "ct = ColumnTransformer(transform)"
   ]
  },
  {
   "cell_type": "code",
   "execution_count": 14,
   "id": "ae098a41",
   "metadata": {
    "execution": {
     "iopub.execute_input": "2023-07-23T15:25:55.434781Z",
     "iopub.status.busy": "2023-07-23T15:25:55.433331Z",
     "iopub.status.idle": "2023-07-23T15:25:55.511757Z",
     "shell.execute_reply": "2023-07-23T15:25:55.510222Z"
    },
    "id": "zTj9z2jk-sh5",
    "papermill": {
     "duration": 0.091179,
     "end_time": "2023-07-23T15:25:55.515205",
     "exception": false,
     "start_time": "2023-07-23T15:25:55.424026",
     "status": "completed"
    },
    "tags": []
   },
   "outputs": [],
   "source": [
    "pro_X_train = ct.fit_transform(X_train)\n",
    "pro_X_test = ct.fit_transform(X_test)"
   ]
  },
  {
   "cell_type": "code",
   "execution_count": 15,
   "id": "979dd667",
   "metadata": {
    "execution": {
     "iopub.execute_input": "2023-07-23T15:25:55.534169Z",
     "iopub.status.busy": "2023-07-23T15:25:55.533257Z",
     "iopub.status.idle": "2023-07-23T15:25:55.976619Z",
     "shell.execute_reply": "2023-07-23T15:25:55.974016Z"
    },
    "id": "L5yDkaHX-fYW",
    "papermill": {
     "duration": 0.457336,
     "end_time": "2023-07-23T15:25:55.980616",
     "exception": false,
     "start_time": "2023-07-23T15:25:55.523280",
     "status": "completed"
    },
    "tags": []
   },
   "outputs": [
    {
     "data": {
      "text/html": [
       "<style>#sk-container-id-1 {color: black;background-color: white;}#sk-container-id-1 pre{padding: 0;}#sk-container-id-1 div.sk-toggleable {background-color: white;}#sk-container-id-1 label.sk-toggleable__label {cursor: pointer;display: block;width: 100%;margin-bottom: 0;padding: 0.3em;box-sizing: border-box;text-align: center;}#sk-container-id-1 label.sk-toggleable__label-arrow:before {content: \"▸\";float: left;margin-right: 0.25em;color: #696969;}#sk-container-id-1 label.sk-toggleable__label-arrow:hover:before {color: black;}#sk-container-id-1 div.sk-estimator:hover label.sk-toggleable__label-arrow:before {color: black;}#sk-container-id-1 div.sk-toggleable__content {max-height: 0;max-width: 0;overflow: hidden;text-align: left;background-color: #f0f8ff;}#sk-container-id-1 div.sk-toggleable__content pre {margin: 0.2em;color: black;border-radius: 0.25em;background-color: #f0f8ff;}#sk-container-id-1 input.sk-toggleable__control:checked~div.sk-toggleable__content {max-height: 200px;max-width: 100%;overflow: auto;}#sk-container-id-1 input.sk-toggleable__control:checked~label.sk-toggleable__label-arrow:before {content: \"▾\";}#sk-container-id-1 div.sk-estimator input.sk-toggleable__control:checked~label.sk-toggleable__label {background-color: #d4ebff;}#sk-container-id-1 div.sk-label input.sk-toggleable__control:checked~label.sk-toggleable__label {background-color: #d4ebff;}#sk-container-id-1 input.sk-hidden--visually {border: 0;clip: rect(1px 1px 1px 1px);clip: rect(1px, 1px, 1px, 1px);height: 1px;margin: -1px;overflow: hidden;padding: 0;position: absolute;width: 1px;}#sk-container-id-1 div.sk-estimator {font-family: monospace;background-color: #f0f8ff;border: 1px dotted black;border-radius: 0.25em;box-sizing: border-box;margin-bottom: 0.5em;}#sk-container-id-1 div.sk-estimator:hover {background-color: #d4ebff;}#sk-container-id-1 div.sk-parallel-item::after {content: \"\";width: 100%;border-bottom: 1px solid gray;flex-grow: 1;}#sk-container-id-1 div.sk-label:hover label.sk-toggleable__label {background-color: #d4ebff;}#sk-container-id-1 div.sk-serial::before {content: \"\";position: absolute;border-left: 1px solid gray;box-sizing: border-box;top: 0;bottom: 0;left: 50%;z-index: 0;}#sk-container-id-1 div.sk-serial {display: flex;flex-direction: column;align-items: center;background-color: white;padding-right: 0.2em;padding-left: 0.2em;position: relative;}#sk-container-id-1 div.sk-item {position: relative;z-index: 1;}#sk-container-id-1 div.sk-parallel {display: flex;align-items: stretch;justify-content: center;background-color: white;position: relative;}#sk-container-id-1 div.sk-item::before, #sk-container-id-1 div.sk-parallel-item::before {content: \"\";position: absolute;border-left: 1px solid gray;box-sizing: border-box;top: 0;bottom: 0;left: 50%;z-index: -1;}#sk-container-id-1 div.sk-parallel-item {display: flex;flex-direction: column;z-index: 1;position: relative;background-color: white;}#sk-container-id-1 div.sk-parallel-item:first-child::after {align-self: flex-end;width: 50%;}#sk-container-id-1 div.sk-parallel-item:last-child::after {align-self: flex-start;width: 50%;}#sk-container-id-1 div.sk-parallel-item:only-child::after {width: 0;}#sk-container-id-1 div.sk-dashed-wrapped {border: 1px dashed gray;margin: 0 0.4em 0.5em 0.4em;box-sizing: border-box;padding-bottom: 0.4em;background-color: white;}#sk-container-id-1 div.sk-label label {font-family: monospace;font-weight: bold;display: inline-block;line-height: 1.2em;}#sk-container-id-1 div.sk-label-container {text-align: center;}#sk-container-id-1 div.sk-container {/* jupyter's `normalize.less` sets `[hidden] { display: none; }` but bootstrap.min.css set `[hidden] { display: none !important; }` so we also need the `!important` here to be able to override the default hidden behavior on the sphinx rendered scikit-learn.org. See: https://github.com/scikit-learn/scikit-learn/issues/21755 */display: inline-block !important;position: relative;}#sk-container-id-1 div.sk-text-repr-fallback {display: none;}</style><div id=\"sk-container-id-1\" class=\"sk-top-container\"><div class=\"sk-text-repr-fallback\"><pre>LinearRegression()</pre><b>In a Jupyter environment, please rerun this cell to show the HTML representation or trust the notebook. <br />On GitHub, the HTML representation is unable to render, please try loading this page with nbviewer.org.</b></div><div class=\"sk-container\" hidden><div class=\"sk-item\"><div class=\"sk-estimator sk-toggleable\"><input class=\"sk-toggleable__control sk-hidden--visually\" id=\"sk-estimator-id-1\" type=\"checkbox\" checked><label for=\"sk-estimator-id-1\" class=\"sk-toggleable__label sk-toggleable__label-arrow\">LinearRegression</label><div class=\"sk-toggleable__content\"><pre>LinearRegression()</pre></div></div></div></div></div>"
      ],
      "text/plain": [
       "LinearRegression()"
      ]
     },
     "execution_count": 15,
     "metadata": {},
     "output_type": "execute_result"
    }
   ],
   "source": [
    "from sklearn.linear_model import LinearRegression\n",
    "lr = LinearRegression()\n",
    "lr.fit(pro_X_train, y_train)"
   ]
  },
  {
   "cell_type": "code",
   "execution_count": 16,
   "id": "381984bf",
   "metadata": {
    "execution": {
     "iopub.execute_input": "2023-07-23T15:25:56.030003Z",
     "iopub.status.busy": "2023-07-23T15:25:56.029292Z",
     "iopub.status.idle": "2023-07-23T15:25:56.038064Z",
     "shell.execute_reply": "2023-07-23T15:25:56.036501Z"
    },
    "id": "X70L7q1vB3fx",
    "papermill": {
     "duration": 0.049027,
     "end_time": "2023-07-23T15:25:56.041875",
     "exception": false,
     "start_time": "2023-07-23T15:25:55.992848",
     "status": "completed"
    },
    "tags": []
   },
   "outputs": [],
   "source": [
    "y_pred = lr.predict(pro_X_test)"
   ]
  },
  {
   "cell_type": "code",
   "execution_count": 17,
   "id": "5e4bc8a4",
   "metadata": {
    "execution": {
     "iopub.execute_input": "2023-07-23T15:25:56.078862Z",
     "iopub.status.busy": "2023-07-23T15:25:56.078398Z",
     "iopub.status.idle": "2023-07-23T15:25:56.086909Z",
     "shell.execute_reply": "2023-07-23T15:25:56.085873Z"
    },
    "id": "af2d_LPNCFWf",
    "papermill": {
     "duration": 0.028828,
     "end_time": "2023-07-23T15:25:56.093806",
     "exception": false,
     "start_time": "2023-07-23T15:25:56.064978",
     "status": "completed"
    },
    "tags": []
   },
   "outputs": [
    {
     "data": {
      "text/plain": [
       "0.8006964822534393"
      ]
     },
     "execution_count": 17,
     "metadata": {},
     "output_type": "execute_result"
    }
   ],
   "source": [
    "from sklearn.metrics import r2_score\n",
    "r2_score(y_test, y_pred)"
   ]
  }
 ],
 "metadata": {
  "kernelspec": {
   "display_name": "Python 3",
   "language": "python",
   "name": "python3"
  },
  "language_info": {
   "codemirror_mode": {
    "name": "ipython",
    "version": 3
   },
   "file_extension": ".py",
   "mimetype": "text/x-python",
   "name": "python",
   "nbconvert_exporter": "python",
   "pygments_lexer": "ipython3",
   "version": "3.10.0"
  },
  "papermill": {
   "default_parameters": {},
   "duration": 15.709217,
   "end_time": "2023-07-23T15:25:57.132267",
   "environment_variables": {},
   "exception": null,
   "input_path": "__notebook__.ipynb",
   "output_path": "__notebook__.ipynb",
   "parameters": {},
   "start_time": "2023-07-23T15:25:41.423050",
   "version": "2.4.0"
  }
 },
 "nbformat": 4,
 "nbformat_minor": 5
}
